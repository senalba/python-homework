{
 "cells": [
  {
   "cell_type": "code",
   "execution_count": 115,
   "id": "d2ec92e8-d814-4425-9f5f-6e02851ddcba",
   "metadata": {},
   "outputs": [],
   "source": [
    "import csv\n",
    "from pathlib import Path\n",
    "import numpy as np\n",
    "import pandas as pd"
   ]
  },
  {
   "cell_type": "code",
   "execution_count": 4,
   "id": "656e2996-e55b-44f8-8b64-34b000140fe5",
   "metadata": {},
   "outputs": [],
   "source": [
    "menu_filepath = Path('Resources/menu_data.csv')\n",
    "sales_filepath = Path('Resources/sales_data.csv')"
   ]
  },
  {
   "cell_type": "code",
   "execution_count": 83,
   "id": "16d2038f-2ec5-4b74-b936-b5f3a1379608",
   "metadata": {},
   "outputs": [],
   "source": [
    "df_menu = pd.read_csv(menu_filepath)\n",
    "df_sales = pd.read_csv(sales_filepath)"
   ]
  },
  {
   "cell_type": "code",
   "execution_count": 84,
   "id": "f36d752e-ee3f-408a-871a-769b4b0d5fbf",
   "metadata": {},
   "outputs": [],
   "source": [
    "df_menu.drop('description', axis=1, inplace=True)\n",
    "df_sales.drop(['Line_Item_ID', 'Date', 'Credit_Card_Number'], axis=1, inplace=True)"
   ]
  },
  {
   "cell_type": "code",
   "execution_count": 85,
   "id": "bbfcc51a-09d0-42e1-9e4e-08326b21b603",
   "metadata": {},
   "outputs": [],
   "source": [
    "df_menu['profit'] = df_menu['price'] - df_menu['cost']\n",
    "#df_menu.set_index('item')"
   ]
  },
  {
   "cell_type": "code",
   "execution_count": 64,
   "id": "de5eec87-ec9c-481e-81dc-e6f067f19eff",
   "metadata": {},
   "outputs": [],
   "source": [
    "#report = {'01-count':0 ,'02-revenue':0, '03-cogs': 0, '04-profit':0}\n",
    "report = {}"
   ]
  },
  {
   "cell_type": "code",
   "execution_count": 104,
   "id": "7dfe4bbe-17ce-4056-a094-8c93be26fd62",
   "metadata": {},
   "outputs": [],
   "source": [
    "df_total = df_sales.groupby('Menu_Item').sum()"
   ]
  },
  {
   "cell_type": "code",
   "execution_count": 112,
   "id": "0aa127fb-1eb4-4575-81a9-d0d3150e0d79",
   "metadata": {},
   "outputs": [],
   "source": [
    "for sales_item in df_total.index.to_list():\n",
    "    quantity = df_total.loc[sales_item].values[0]\n",
    "    price = df_menu.price[df_menu['item']==sales_item].values[0]\n",
    "    cost = df_menu.cost[df_menu['item']==sales_item].values[0]\n",
    "    profit = df_menu.profit[df_menu['item']==sales_item].values[0]            \n",
    "    \n",
    "    report[sales_item] = {}\n",
    "    report[sales_item][\"01-count\"] = quantity\n",
    "    report[sales_item][\"02-revenue\"] = int(price * quantity)\n",
    "    report[sales_item][\"03-cogs\"] = int(cost * quantity)\n",
    "    report[sales_item][\"04-profit\"] = int(profit * quantity)\n",
    "        "
   ]
  },
  {
   "cell_type": "code",
   "execution_count": 119,
   "id": "b3be5e6d-1c52-41d6-8681-ac2dd8431ae5",
   "metadata": {},
   "outputs": [
    {
     "name": "stdout",
     "output_type": "stream",
     "text": [
      "{'01-count': 9070, '02-revenue': 126980, '03-cogs': 54420, '04-profit': 72560}\n",
      "{'01-count': 8890, '02-revenue': 106680, '03-cogs': 53340, '04-profit': 53340}\n",
      "{'01-count': 9132, '02-revenue': 100452, '03-cogs': 45660, '04-profit': 54792}\n",
      "{'01-count': 9180, '02-revenue': 100980, '03-cogs': 45900, '04-profit': 55080}\n",
      "{'01-count': 9130, '02-revenue': 127820, '03-cogs': 63910, '04-profit': 63910}\n",
      "{'01-count': 9238, '02-revenue': 110856, '03-cogs': 46190, '04-profit': 64666}\n",
      "{'01-count': 9288, '02-revenue': 120744, '03-cogs': 55728, '04-profit': 65016}\n",
      "{'01-count': 9156, '02-revenue': 119028, '03-cogs': 54936, '04-profit': 64092}\n",
      "{'01-count': 8982, '02-revenue': 125748, '03-cogs': 62874, '04-profit': 62874}\n",
      "{'01-count': 8824, '02-revenue': 114712, '03-cogs': 61768, '04-profit': 52944}\n",
      "{'01-count': 9216, '02-revenue': 110592, '03-cogs': 46080, '04-profit': 64512}\n"
     ]
    }
   ],
   "source": [
    "for key in report:\n",
    "    print(str(report[key]))"
   ]
  },
  {
   "cell_type": "code",
   "execution_count": 121,
   "id": "b7c63268-e338-4104-b727-33c1b9127a0a",
   "metadata": {},
   "outputs": [],
   "source": [
    "with open('ramen_anaalysis.txt', 'w') as writer:\n",
    "    for key in report:\n",
    "        line = key + str(report[key]) + '\\n'\n",
    "        writer.write(line)"
   ]
  },
  {
   "cell_type": "code",
   "execution_count": null,
   "id": "70ca8c54-2c18-461d-b1b6-8ebaa7346802",
   "metadata": {},
   "outputs": [],
   "source": []
  },
  {
   "cell_type": "code",
   "execution_count": null,
   "id": "09960df4-9325-4201-9eff-30ebefa33225",
   "metadata": {},
   "outputs": [],
   "source": []
  }
 ],
 "metadata": {
  "kernelspec": {
   "display_name": "oopython310",
   "language": "python",
   "name": "oopython310"
  },
  "language_info": {
   "codemirror_mode": {
    "name": "ipython",
    "version": 3
   },
   "file_extension": ".py",
   "mimetype": "text/x-python",
   "name": "python",
   "nbconvert_exporter": "python",
   "pygments_lexer": "ipython3",
   "version": "3.10.2"
  }
 },
 "nbformat": 4,
 "nbformat_minor": 5
}
