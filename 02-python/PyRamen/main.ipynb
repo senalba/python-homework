{
 "cells": [
  {
   "cell_type": "code",
   "execution_count": 3,
   "id": "d2ec92e8-d814-4425-9f5f-6e02851ddcba",
   "metadata": {},
   "outputs": [],
   "source": [
    "import csv\n",
    "from pathlib import Path\n",
    "import numpy as np\n",
    "import pandas as pd"
   ]
  },
  {
   "cell_type": "code",
   "execution_count": 4,
   "id": "656e2996-e55b-44f8-8b64-34b000140fe5",
   "metadata": {},
   "outputs": [],
   "source": [
    "menu_filepath = Path('Resources/menu_data.csv')\n",
    "sales_filepath = Path('Resources/sales_data.csv')"
   ]
  },
  {
   "cell_type": "code",
   "execution_count": 16,
   "id": "16d2038f-2ec5-4b74-b936-b5f3a1379608",
   "metadata": {},
   "outputs": [],
   "source": [
    "df_menu = pd.read_csv(menu_filepath)\n",
    "df_sales = pd.read_csv(sales_filepath)"
   ]
  },
  {
   "cell_type": "code",
   "execution_count": 17,
   "id": "de5eec87-ec9c-481e-81dc-e6f067f19eff",
   "metadata": {},
   "outputs": [],
   "source": [
    "report = {'01-count':0 ,'02-revenue':0, '03-cogs': 0, '04-profit':0}"
   ]
  },
  {
   "cell_type": "code",
   "execution_count": 20,
   "id": "7dfe4bbe-17ce-4056-a094-8c93be26fd62",
   "metadata": {},
   "outputs": [
    {
     "data": {
      "text/plain": [
       "0         True\n",
       "1         True\n",
       "2         True\n",
       "3         True\n",
       "4         True\n",
       "         ...  \n",
       "74119     True\n",
       "74120    False\n",
       "74121    False\n",
       "74122     True\n",
       "74123     True\n",
       "Name: Menu_Item, Length: 74124, dtype: bool"
      ]
     },
     "execution_count": 20,
     "metadata": {},
     "output_type": "execute_result"
    }
   ],
   "source": [
    "df_sales.Menu_Item.str.contains('ramen')"
   ]
  },
  {
   "cell_type": "code",
   "execution_count": 19,
   "id": "0aa127fb-1eb4-4575-81a9-d0d3150e0d79",
   "metadata": {},
   "outputs": [
    {
     "data": {
      "text/html": [
       "<div>\n",
       "<style scoped>\n",
       "    .dataframe tbody tr th:only-of-type {\n",
       "        vertical-align: middle;\n",
       "    }\n",
       "\n",
       "    .dataframe tbody tr th {\n",
       "        vertical-align: top;\n",
       "    }\n",
       "\n",
       "    .dataframe thead th {\n",
       "        text-align: right;\n",
       "    }\n",
       "</style>\n",
       "<table border=\"1\" class=\"dataframe\">\n",
       "  <thead>\n",
       "    <tr style=\"text-align: right;\">\n",
       "      <th></th>\n",
       "      <th>Line_Item_ID</th>\n",
       "      <th>Date</th>\n",
       "      <th>Credit_Card_Number</th>\n",
       "      <th>Quantity</th>\n",
       "      <th>Menu_Item</th>\n",
       "    </tr>\n",
       "  </thead>\n",
       "  <tbody>\n",
       "    <tr>\n",
       "      <th>0</th>\n",
       "      <td>1</td>\n",
       "      <td>01-01-2017</td>\n",
       "      <td>7437926611570799</td>\n",
       "      <td>1</td>\n",
       "      <td>spicy miso ramen</td>\n",
       "    </tr>\n",
       "    <tr>\n",
       "      <th>1</th>\n",
       "      <td>2</td>\n",
       "      <td>01-01-2017</td>\n",
       "      <td>7437926611570799</td>\n",
       "      <td>1</td>\n",
       "      <td>spicy miso ramen</td>\n",
       "    </tr>\n",
       "    <tr>\n",
       "      <th>2</th>\n",
       "      <td>3</td>\n",
       "      <td>01-01-2017</td>\n",
       "      <td>8421920068932819</td>\n",
       "      <td>3</td>\n",
       "      <td>tori paitan ramen</td>\n",
       "    </tr>\n",
       "    <tr>\n",
       "      <th>3</th>\n",
       "      <td>4</td>\n",
       "      <td>01-01-2017</td>\n",
       "      <td>8421920068932819</td>\n",
       "      <td>3</td>\n",
       "      <td>tori paitan ramen</td>\n",
       "    </tr>\n",
       "    <tr>\n",
       "      <th>4</th>\n",
       "      <td>5</td>\n",
       "      <td>01-01-2017</td>\n",
       "      <td>4787310681569648</td>\n",
       "      <td>1</td>\n",
       "      <td>truffle butter ramen</td>\n",
       "    </tr>\n",
       "    <tr>\n",
       "      <th>...</th>\n",
       "      <td>...</td>\n",
       "      <td>...</td>\n",
       "      <td>...</td>\n",
       "      <td>...</td>\n",
       "      <td>...</td>\n",
       "    </tr>\n",
       "    <tr>\n",
       "      <th>74119</th>\n",
       "      <td>74120</td>\n",
       "      <td>12-31-2018</td>\n",
       "      <td>1697055332228941</td>\n",
       "      <td>4</td>\n",
       "      <td>tonkotsu ramen</td>\n",
       "    </tr>\n",
       "    <tr>\n",
       "      <th>74120</th>\n",
       "      <td>74121</td>\n",
       "      <td>12-31-2018</td>\n",
       "      <td>6800009643487106</td>\n",
       "      <td>1</td>\n",
       "      <td>vegetarian spicy miso</td>\n",
       "    </tr>\n",
       "    <tr>\n",
       "      <th>74121</th>\n",
       "      <td>74122</td>\n",
       "      <td>12-31-2018</td>\n",
       "      <td>6800009643487106</td>\n",
       "      <td>1</td>\n",
       "      <td>vegetarian spicy miso</td>\n",
       "    </tr>\n",
       "    <tr>\n",
       "      <th>74122</th>\n",
       "      <td>74123</td>\n",
       "      <td>12-31-2018</td>\n",
       "      <td>5981057609583653</td>\n",
       "      <td>2</td>\n",
       "      <td>spicy miso ramen</td>\n",
       "    </tr>\n",
       "    <tr>\n",
       "      <th>74123</th>\n",
       "      <td>74124</td>\n",
       "      <td>12-31-2018</td>\n",
       "      <td>5981057609583653</td>\n",
       "      <td>2</td>\n",
       "      <td>spicy miso ramen</td>\n",
       "    </tr>\n",
       "  </tbody>\n",
       "</table>\n",
       "<p>74124 rows × 5 columns</p>\n",
       "</div>"
      ],
      "text/plain": [
       "       Line_Item_ID        Date  Credit_Card_Number  Quantity  \\\n",
       "0                 1  01-01-2017    7437926611570799         1   \n",
       "1                 2  01-01-2017    7437926611570799         1   \n",
       "2                 3  01-01-2017    8421920068932819         3   \n",
       "3                 4  01-01-2017    8421920068932819         3   \n",
       "4                 5  01-01-2017    4787310681569648         1   \n",
       "...             ...         ...                 ...       ...   \n",
       "74119         74120  12-31-2018    1697055332228941         4   \n",
       "74120         74121  12-31-2018    6800009643487106         1   \n",
       "74121         74122  12-31-2018    6800009643487106         1   \n",
       "74122         74123  12-31-2018    5981057609583653         2   \n",
       "74123         74124  12-31-2018    5981057609583653         2   \n",
       "\n",
       "                   Menu_Item  \n",
       "0           spicy miso ramen  \n",
       "1           spicy miso ramen  \n",
       "2          tori paitan ramen  \n",
       "3          tori paitan ramen  \n",
       "4       truffle butter ramen  \n",
       "...                      ...  \n",
       "74119         tonkotsu ramen  \n",
       "74120  vegetarian spicy miso  \n",
       "74121  vegetarian spicy miso  \n",
       "74122       spicy miso ramen  \n",
       "74123       spicy miso ramen  \n",
       "\n",
       "[74124 rows x 5 columns]"
      ]
     },
     "execution_count": 19,
     "metadata": {},
     "output_type": "execute_result"
    }
   ],
   "source": [
    "df_sales"
   ]
  },
  {
   "cell_type": "code",
   "execution_count": null,
   "id": "b3be5e6d-1c52-41d6-8681-ac2dd8431ae5",
   "metadata": {},
   "outputs": [],
   "source": []
  }
 ],
 "metadata": {
  "kernelspec": {
   "display_name": "oopython310",
   "language": "python",
   "name": "oopython310"
  },
  "language_info": {
   "codemirror_mode": {
    "name": "ipython",
    "version": 3
   },
   "file_extension": ".py",
   "mimetype": "text/x-python",
   "name": "python",
   "nbconvert_exporter": "python",
   "pygments_lexer": "ipython3",
   "version": "3.10.2"
  }
 },
 "nbformat": 4,
 "nbformat_minor": 5
}
