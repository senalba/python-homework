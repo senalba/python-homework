{
 "cells": [
  {
   "cell_type": "code",
   "execution_count": 65,
   "id": "e8cfc1b7-a6b0-4e3a-ad0c-4ae660873f21",
   "metadata": {},
   "outputs": [],
   "source": [
    "import csv\n",
    "from pathlib import Path"
   ]
  },
  {
   "cell_type": "code",
   "execution_count": 66,
   "id": "88f2cb76-e07b-4b90-9f1c-d768df2044fc",
   "metadata": {},
   "outputs": [],
   "source": [
    "menu_filepath = Path('Resources/menu_data.csv')\n",
    "sales_filepath = Path('Resources/sales_data.csv')"
   ]
  },
  {
   "cell_type": "code",
   "execution_count": 67,
   "id": "d966a628-7038-4551-a053-886cb9768853",
   "metadata": {},
   "outputs": [],
   "source": [
    "report = {}\n",
    "menu = {}"
   ]
  },
  {
   "cell_type": "code",
   "execution_count": 68,
   "id": "b11462ba-5c7e-4682-aa95-1f3e790ee565",
   "metadata": {},
   "outputs": [
    {
     "name": "stdout",
     "output_type": "stream",
     "text": [
      "Column names are item, category, description, price, cost\n",
      "Processed 33 lines.\n"
     ]
    }
   ],
   "source": [
    "with open(menu_filepath) as csv_file:\n",
    "    csv_reader = csv.reader(csv_file, delimiter=',')\n",
    "    line_count = 0\n",
    "    for row in csv_reader:\n",
    "        if line_count == 0:\n",
    "            print(f'Column names are {\", \".join(row)}')\n",
    "            line_count += 1\n",
    "        else:\n",
    "            item = row[0]\n",
    "            if item not in menu:\n",
    "                menu[item] = {}\n",
    "                \n",
    "                menu[item]['price'] = float(row[3])\n",
    "                menu[item]['cost'] = float(row[4])\n",
    "                menu[item]['profit'] = price - cost\n",
    "            line_count += 1\n",
    "\n",
    "    print(f'Processed {line_count} lines.')                "
   ]
  },
  {
   "cell_type": "code",
   "execution_count": 69,
   "id": "bded2361-c5d7-4c2e-bee9-d7e5b34ef48f",
   "metadata": {},
   "outputs": [
    {
     "name": "stdout",
     "output_type": "stream",
     "text": [
      "Column names are Line_Item_ID, Date, Credit_Card_Number, Quantity, Menu_Item\n",
      "Processed 74125 lines.\n"
     ]
    }
   ],
   "source": [
    "with open(sales_filepath) as csv_file:\n",
    "    csv_reader = csv.reader(csv_file, delimiter=',')\n",
    "    line_count = 0\n",
    "    for row in csv_reader:\n",
    "        if line_count == 0:\n",
    "            print(f'Column names are {\", \".join(row)}')\n",
    "            line_count += 1\n",
    "        else:\n",
    "            \n",
    "            quantity = int(row[3])\n",
    "            sales_item = row[4]\n",
    "            \n",
    "            if sales_item not in report:\n",
    "                report[sales_item] = {}\n",
    "                report[sales_item][\"01-count\"] = 0\n",
    "                report[sales_item][\"02-revenue\"] = 0\n",
    "                report[sales_item][\"03-cogs\"] = 0\n",
    "                report[sales_item][\"04-profit\"] = 0\n",
    "                \n",
    "            price = menu[sales_item]['price']\n",
    "            cost = menu[sales_item]['cost']\n",
    "            profit = menu[sales_item]['profit']\n",
    "    \n",
    "\n",
    "            report[sales_item][\"01-count\"] += quantity\n",
    "            report[sales_item][\"02-revenue\"] += price * quantity\n",
    "            report[sales_item][\"03-cogs\"] += cost * quantity\n",
    "            report[sales_item][\"04-profit\"] += profit * quantity\n",
    "            \n",
    "            line_count += 1\n",
    "        \n",
    "    print(f'Processed {line_count} lines.')"
   ]
  },
  {
   "cell_type": "code",
   "execution_count": 70,
   "id": "779cb423-7bf0-4211-9321-f14971817504",
   "metadata": {},
   "outputs": [],
   "source": [
    "with open('ramen_analysis.txt', 'w') as writer:\n",
    "    for key in report:\n",
    "        line = key + str(report[key]) + '\\n'\n",
    "        writer.write(line)"
   ]
  },
  {
   "cell_type": "code",
   "execution_count": null,
   "id": "0e35f6a1-2ddc-46c4-ab10-8ea6706e0ac2",
   "metadata": {},
   "outputs": [],
   "source": []
  },
  {
   "cell_type": "markdown",
   "id": "f2c1c8ea-cc32-4a7b-9dcf-f231e2fab58f",
   "metadata": {},
   "source": [
    "# Pandas"
   ]
  },
  {
   "cell_type": "code",
   "execution_count": 115,
   "id": "d2ec92e8-d814-4425-9f5f-6e02851ddcba",
   "metadata": {},
   "outputs": [],
   "source": [
    "import numpy as np\n",
    "import pandas as pd"
   ]
  },
  {
   "cell_type": "code",
   "execution_count": 4,
   "id": "656e2996-e55b-44f8-8b64-34b000140fe5",
   "metadata": {},
   "outputs": [],
   "source": [
    "menu_filepath = Path('Resources/menu_data.csv')\n",
    "sales_filepath = Path('Resources/sales_data.csv')"
   ]
  },
  {
   "cell_type": "code",
   "execution_count": 83,
   "id": "16d2038f-2ec5-4b74-b936-b5f3a1379608",
   "metadata": {},
   "outputs": [],
   "source": [
    "df_menu = pd.read_csv(menu_filepath)\n",
    "df_sales = pd.read_csv(sales_filepath)"
   ]
  },
  {
   "cell_type": "code",
   "execution_count": 84,
   "id": "f36d752e-ee3f-408a-871a-769b4b0d5fbf",
   "metadata": {},
   "outputs": [],
   "source": [
    "df_menu.drop('description', axis=1, inplace=True)\n",
    "df_sales.drop(['Line_Item_ID', 'Date', 'Credit_Card_Number'], axis=1, inplace=True)"
   ]
  },
  {
   "cell_type": "code",
   "execution_count": 85,
   "id": "bbfcc51a-09d0-42e1-9e4e-08326b21b603",
   "metadata": {},
   "outputs": [],
   "source": [
    "df_menu['profit'] = df_menu['price'] - df_menu['cost']\n",
    "#df_menu.set_index('item')"
   ]
  },
  {
   "cell_type": "code",
   "execution_count": 64,
   "id": "de5eec87-ec9c-481e-81dc-e6f067f19eff",
   "metadata": {},
   "outputs": [],
   "source": [
    "report = {}"
   ]
  },
  {
   "cell_type": "code",
   "execution_count": 104,
   "id": "7dfe4bbe-17ce-4056-a094-8c93be26fd62",
   "metadata": {},
   "outputs": [],
   "source": [
    "df_total = df_sales.groupby('Menu_Item').sum()"
   ]
  },
  {
   "cell_type": "code",
   "execution_count": 112,
   "id": "0aa127fb-1eb4-4575-81a9-d0d3150e0d79",
   "metadata": {},
   "outputs": [],
   "source": [
    "for sales_item in df_total.index.to_list():\n",
    "    quantity = df_total.loc[sales_item].values[0]\n",
    "    price = df_menu.price[df_menu['item']==sales_item].values[0]\n",
    "    cost = df_menu.cost[df_menu['item']==sales_item].values[0]\n",
    "    profit = df_menu.profit[df_menu['item']==sales_item].values[0]            \n",
    "    \n",
    "    report[sales_item] = {}\n",
    "    report[sales_item][\"01-count\"] = quantity\n",
    "    report[sales_item][\"02-revenue\"] = int(price * quantity)\n",
    "    report[sales_item][\"03-cogs\"] = int(cost * quantity)\n",
    "    report[sales_item][\"04-profit\"] = int(profit * quantity)\n",
    "        "
   ]
  },
  {
   "cell_type": "code",
   "execution_count": null,
   "id": "b3be5e6d-1c52-41d6-8681-ac2dd8431ae5",
   "metadata": {},
   "outputs": [],
   "source": []
  },
  {
   "cell_type": "code",
   "execution_count": 121,
   "id": "b7c63268-e338-4104-b727-33c1b9127a0a",
   "metadata": {},
   "outputs": [],
   "source": [
    "with open('ramen_analysis.txt', 'w') as writer:\n",
    "    for key in report:\n",
    "        line = key + str(report[key]) + '\\n'\n",
    "        writer.write(line)"
   ]
  },
  {
   "cell_type": "code",
   "execution_count": null,
   "id": "70ca8c54-2c18-461d-b1b6-8ebaa7346802",
   "metadata": {},
   "outputs": [],
   "source": []
  },
  {
   "cell_type": "code",
   "execution_count": null,
   "id": "09960df4-9325-4201-9eff-30ebefa33225",
   "metadata": {},
   "outputs": [],
   "source": []
  }
 ],
 "metadata": {
  "kernelspec": {
   "display_name": "oopython310",
   "language": "python",
   "name": "oopython310"
  },
  "language_info": {
   "codemirror_mode": {
    "name": "ipython",
    "version": 3
   },
   "file_extension": ".py",
   "mimetype": "text/x-python",
   "name": "python",
   "nbconvert_exporter": "python",
   "pygments_lexer": "ipython3",
   "version": "3.10.2"
  }
 },
 "nbformat": 4,
 "nbformat_minor": 5
}
