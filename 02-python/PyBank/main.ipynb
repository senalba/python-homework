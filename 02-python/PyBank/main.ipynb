{
 "cells": [
  {
   "cell_type": "code",
   "execution_count": null,
   "id": "475f7fe8-8143-4a4a-935c-32e2caaff086",
   "metadata": {},
   "outputs": [],
   "source": [
    "import pandas as pd"
   ]
  },
  {
   "cell_type": "code",
   "execution_count": 179,
   "id": "a1cce5ac-7268-4256-b5e2-99aaa4b7dc5c",
   "metadata": {},
   "outputs": [],
   "source": [
    "df_budget = pd.read_csv('Resources/budget_data.csv')"
   ]
  },
  {
   "cell_type": "code",
   "execution_count": 186,
   "id": "ce1d9ecd-32d5-45d8-af6c-ab647b59d413",
   "metadata": {},
   "outputs": [],
   "source": [
    "dates = df_budget.Date.to_list()\n",
    "profits = df_budget['Profit/Losses'].to_list()"
   ]
  },
  {
   "cell_type": "code",
   "execution_count": null,
   "id": "23db83c6-48d2-49d5-8ee0-8e3e008cbcf6",
   "metadata": {},
   "outputs": [],
   "source": [
    "number_months = len(dates)"
   ]
  },
  {
   "cell_type": "code",
   "execution_count": 189,
   "id": "2fe6b803-de5a-42e4-933e-936fc454b749",
   "metadata": {},
   "outputs": [],
   "source": [
    "total_amount = sum(profits)"
   ]
  },
  {
   "cell_type": "code",
   "execution_count": 192,
   "id": "ce448dc3-03ea-493f-8208-2681c0c4e13e",
   "metadata": {},
   "outputs": [],
   "source": [
    "average_change = round(total_amount/number_months,2)"
   ]
  },
  {
   "cell_type": "code",
   "execution_count": 194,
   "id": "cde7138f-ec7f-4968-9f8e-a53991053cc3",
   "metadata": {},
   "outputs": [],
   "source": [
    "greatest_increase = profits[0]\n",
    "month_g_i = dates[0]\n",
    "\n",
    "greatest_decrease = profits[0]\n",
    "month_g_d = dates[0]\n",
    "\n",
    "for idx, amount in enumerate(profits):\n",
    "    \n",
    "    if amount > greatest_increase:\n",
    "        greatest_increase = amount\n",
    "        month_g_i = dates[idx]\n",
    "        \n",
    "    if amount < greatest_decrease:\n",
    "        greatest_decrease = amount\n",
    "        month_g_d = dates[idx]"
   ]
  },
  {
   "cell_type": "code",
   "execution_count": 195,
   "id": "5d9540cc-33ff-42eb-a1e4-82955babd923",
   "metadata": {},
   "outputs": [],
   "source": [
    "my_string = 'Financial Analysis\\n'\n",
    "my_string += '-'*20 + '\\n'\n",
    "my_string += 'Total Months: ' + str(number_months) +'\\n'\n",
    "my_string += 'Total: ' + '$' + str(total_amount) +'\\n'\n",
    "my_string += '\\tAverage Change: ' + '$' + str(average_change) +'\\n'\n",
    "my_string += 'Greatest Inrease in Profits: ' + month_g_i + ' ($' + str(greatest_increase) + ')\\n'\n",
    "my_string += 'Greatest Decrease in Profits: ' + month_g_d + ' ($' + str(greatest_decrease) + ')'"
   ]
  },
  {
   "cell_type": "code",
   "execution_count": null,
   "id": "b21a8fbf-bd3e-44dd-88ce-d6bf18e1b5a8",
   "metadata": {},
   "outputs": [],
   "source": []
  },
  {
   "cell_type": "code",
   "execution_count": null,
   "id": "896e11f8-fee8-43df-9a7f-b496e3e292e7",
   "metadata": {},
   "outputs": [],
   "source": []
  },
  {
   "cell_type": "code",
   "execution_count": null,
   "id": "188b079b-e264-40a6-9084-32a68af5ce17",
   "metadata": {},
   "outputs": [],
   "source": []
  },
  {
   "cell_type": "code",
   "execution_count": null,
   "id": "ae5ac7e9-3d39-497d-a4c7-173511611175",
   "metadata": {},
   "outputs": [],
   "source": []
  },
  {
   "cell_type": "code",
   "execution_count": null,
   "id": "82a1f5ca-a624-4d5c-86ff-482866c72f24",
   "metadata": {},
   "outputs": [],
   "source": []
  },
  {
   "cell_type": "code",
   "execution_count": null,
   "id": "e9063c07-6973-44b2-8851-8e46487451c2",
   "metadata": {},
   "outputs": [],
   "source": []
  },
  {
   "cell_type": "markdown",
   "id": "96aaca5e-221b-4bde-8bb4-48650d50c390",
   "metadata": {},
   "source": [
    "# Pandas"
   ]
  },
  {
   "cell_type": "code",
   "execution_count": 144,
   "id": "d2ec92e8-d814-4425-9f5f-6e02851ddcba",
   "metadata": {},
   "outputs": [],
   "source": [
    "import numpy as np\n",
    "import pandas as pd"
   ]
  },
  {
   "cell_type": "code",
   "execution_count": 146,
   "id": "67174cb1-4668-4a11-a4fa-bf65e3efbd16",
   "metadata": {},
   "outputs": [],
   "source": [
    "df_budget = pd.read_csv('Resources/budget_data.csv', index_col='Date')"
   ]
  },
  {
   "cell_type": "code",
   "execution_count": null,
   "id": "5b7bd499-e332-49a8-a8a7-8608dda6926c",
   "metadata": {},
   "outputs": [],
   "source": [
    "#The total number of months included in the dataset.\n",
    "number_months = df_budget.shape[0]"
   ]
  },
  {
   "cell_type": "code",
   "execution_count": 158,
   "id": "7c67d49d-35fb-4db3-a5a2-7f176bded398",
   "metadata": {},
   "outputs": [],
   "source": [
    "#The net total amount of Profit/Losses over the entire period.\n",
    "total_amount = df_budget['Profit/Losses'].sum()"
   ]
  },
  {
   "cell_type": "code",
   "execution_count": 161,
   "id": "e8d1ef44-2d59-4e7b-b993-3a6eecc121dd",
   "metadata": {},
   "outputs": [],
   "source": [
    "# The average of the changes in Profit/Losses over the entire period.\n",
    "average_change = int(df_budget['Profit/Losses'].mean())"
   ]
  },
  {
   "cell_type": "code",
   "execution_count": 178,
   "id": "260e30a5-43e8-4a6d-932a-fb21c5411b6b",
   "metadata": {},
   "outputs": [],
   "source": [
    "# The greatest increase in profits (date and amount) over the entire period.\n",
    "greatest_increase = df_budget['Profit/Losses'].max()\n",
    "month_g_i = df_budget.index[df_budget['Profit/Losses'] == greatest_increase].tolist()[0]"
   ]
  },
  {
   "cell_type": "code",
   "execution_count": null,
   "id": "6d42584a-2a8c-44b7-9b3a-7fded37c2ff1",
   "metadata": {},
   "outputs": [],
   "source": [
    "#The greatest decrease in losses (date and amount) over the entire period.\n",
    "greatest_decrease = df_budget['Profit/Losses'].min()\n",
    "month_g_d = df_budget.index[df_budget['Profit/Losses'] == greatest_decrease].tolist()[0]"
   ]
  },
  {
   "cell_type": "code",
   "execution_count": 175,
   "id": "061f1f55-5aac-4b7b-bf47-24ca55c91b9b",
   "metadata": {},
   "outputs": [],
   "source": [
    "my_string = 'Financial Analysis\\n'\n",
    "my_string += '-'*20 + '\\n'\n",
    "my_string += 'Total Months: ' + str(number_months) +'\\n'\n",
    "my_string += 'Total: ' + '$' + str(total_amount) +'\\n'\n",
    "my_string += '\\tAverage Change: ' + '$' + str(average_change) +'\\n'\n",
    "my_string += 'Greatest Inrease in Profits: ' + month_g_i + ' ($' + str(greatest_increase) + ')\\n'\n",
    "my_string += 'Greatest Decrease in Profits: ' + month_g_d + ' ($' + str(greatest_decrease) + ')'"
   ]
  },
  {
   "cell_type": "code",
   "execution_count": 176,
   "id": "3d764c08-ff64-48aa-9a39-8325cb2ce410",
   "metadata": {},
   "outputs": [
    {
     "name": "stdout",
     "output_type": "stream",
     "text": [
      "Financial Analysis\n",
      "--------------------\n",
      "Total Months: 86\n",
      "Total: $38382578\n",
      "\tAverage Change: $446309\n",
      "Greatest Inrease in Profits: Feb-2012 ($1170593)\n",
      "Greatest Decrease in Profits: Sep-2013 ($-1196225)\n"
     ]
    }
   ],
   "source": [
    "print(my_string)"
   ]
  },
  {
   "cell_type": "code",
   "execution_count": 142,
   "id": "ed50700e-11bb-4c35-a0bb-ac9318b849eb",
   "metadata": {},
   "outputs": [],
   "source": [
    "with open('fin_anaalysis.txt', 'w') as writer:\n",
    "    \n",
    "    writer.write(my_string)"
   ]
  },
  {
   "cell_type": "code",
   "execution_count": null,
   "id": "951bdc89-6586-4479-abc0-8941dbcf049e",
   "metadata": {},
   "outputs": [],
   "source": []
  }
 ],
 "metadata": {
  "kernelspec": {
   "display_name": "oopython310",
   "language": "python",
   "name": "oopython310"
  },
  "language_info": {
   "codemirror_mode": {
    "name": "ipython",
    "version": 3
   },
   "file_extension": ".py",
   "mimetype": "text/x-python",
   "name": "python",
   "nbconvert_exporter": "python",
   "pygments_lexer": "ipython3",
   "version": "3.10.2"
  }
 },
 "nbformat": 4,
 "nbformat_minor": 5
}
