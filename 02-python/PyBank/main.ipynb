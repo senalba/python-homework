{
 "cells": [
  {
   "cell_type": "code",
   "execution_count": 143,
   "id": "d2ec92e8-d814-4425-9f5f-6e02851ddcba",
   "metadata": {},
   "outputs": [],
   "source": [
    "import numpy as np\n",
    "import pandas as pd"
   ]
  },
  {
   "cell_type": "code",
   "execution_count": 93,
   "id": "67174cb1-4668-4a11-a4fa-bf65e3efbd16",
   "metadata": {},
   "outputs": [],
   "source": [
    "df_budget = pd.read_csv('Resources/budget_data.csv')"
   ]
  },
  {
   "cell_type": "code",
   "execution_count": 135,
   "id": "67c4258d-0947-4087-b444-ddd15a979fff",
   "metadata": {},
   "outputs": [],
   "source": [
    "profits = df_budget['Profit/Losses'].to_numpy()"
   ]
  },
  {
   "cell_type": "code",
   "execution_count": 85,
   "id": "65f6c13e-44ba-4a24-ae72-06e02e3b0d85",
   "metadata": {},
   "outputs": [],
   "source": [
    "#The total number of months included in the dataset.\n",
    "number_months = df_budget.shape[0]"
   ]
  },
  {
   "cell_type": "code",
   "execution_count": 136,
   "id": "7c67d49d-35fb-4db3-a5a2-7f176bded398",
   "metadata": {},
   "outputs": [],
   "source": [
    "#The net total amount of Profit/Losses over the entire period.\n",
    "total_amount = df_budget['Profit/Losses'].sum()"
   ]
  },
  {
   "cell_type": "code",
   "execution_count": 137,
   "id": "e8d1ef44-2d59-4e7b-b993-3a6eecc121dd",
   "metadata": {},
   "outputs": [],
   "source": [
    "# The average of the changes in Profit/Losses over the entire period.\n",
    "average_change = int(df_budget['Profit/Losses'].mean())"
   ]
  },
  {
   "cell_type": "code",
   "execution_count": 138,
   "id": "260e30a5-43e8-4a6d-932a-fb21c5411b6b",
   "metadata": {},
   "outputs": [],
   "source": [
    "# The greatest increase in profits (date and amount) over the entire period.\n",
    "greatest_increase = df_budget['Profit/Losses'].max()\n",
    "idx_greatest_increase = np.where( profits == greatest_increase)[0][0]\n",
    "month_g_i = df_budget['Date'][idx_greatest_increase]"
   ]
  },
  {
   "cell_type": "code",
   "execution_count": null,
   "id": "44fd2145-8cea-4a6f-9015-16ddc31730cb",
   "metadata": {},
   "outputs": [],
   "source": []
  },
  {
   "cell_type": "code",
   "execution_count": 139,
   "id": "1a6a8f03-6d73-4b74-b605-fcf1c318bc70",
   "metadata": {},
   "outputs": [],
   "source": [
    "#The greatest decrease in losses (date and amount) over the entire period.\n",
    "greatest_decrease = df_budget['Profit/Losses'].min()\n",
    "idx_greatest_decrease = np.where( profits == greatest_decrease)[0][0]\n",
    "month_g_d = df_budget['Date'][idx_greatest_decrease]"
   ]
  },
  {
   "cell_type": "code",
   "execution_count": 140,
   "id": "061f1f55-5aac-4b7b-bf47-24ca55c91b9b",
   "metadata": {},
   "outputs": [],
   "source": [
    "my_string = 'Financial Analysis\\n'\n",
    "my_string += '-'*20 + '\\n'\n",
    "my_string += 'Total Months: ' + str(number_months) +'\\n'\n",
    "my_string += 'Total: ' + '$' + str(total_amount) +'\\n'\n",
    "my_string += '\\tAverage Change: ' + '$' + str(average_change) +'\\n'\n",
    "my_string += 'Greatest Inrease in Profits: ' + month_g_i + ' ($' + str(greatest_increase) + ')\\n'\n",
    "my_string += 'Greatest Decrease in Profits: ' + month_g_d + ' ($' + str(greatest_decrease) + ')'"
   ]
  },
  {
   "cell_type": "code",
   "execution_count": 141,
   "id": "3d764c08-ff64-48aa-9a39-8325cb2ce410",
   "metadata": {},
   "outputs": [
    {
     "name": "stdout",
     "output_type": "stream",
     "text": [
      "Financial Analysis\n",
      "--------------------\n",
      "Total Months: 86\n",
      "Total: $38382578\n",
      "\tAverage Change: $446309\n",
      "Greatest Inrease in Profits: Feb-2012 ($1170593)\n",
      "Greatest Decrease in Profits: Sep-2013 ($-1196225)\n"
     ]
    }
   ],
   "source": [
    "print(my_string)"
   ]
  },
  {
   "cell_type": "code",
   "execution_count": 142,
   "id": "ed50700e-11bb-4c35-a0bb-ac9318b849eb",
   "metadata": {},
   "outputs": [],
   "source": [
    "with open('fin_anaalysis.txt', 'w') as writer:\n",
    "    \n",
    "    writer.write(my_string)"
   ]
  },
  {
   "cell_type": "code",
   "execution_count": null,
   "id": "951bdc89-6586-4479-abc0-8941dbcf049e",
   "metadata": {},
   "outputs": [],
   "source": []
  }
 ],
 "metadata": {
  "kernelspec": {
   "display_name": "oopython310",
   "language": "python",
   "name": "oopython310"
  },
  "language_info": {
   "codemirror_mode": {
    "name": "ipython",
    "version": 3
   },
   "file_extension": ".py",
   "mimetype": "text/x-python",
   "name": "python",
   "nbconvert_exporter": "python",
   "pygments_lexer": "ipython3",
   "version": "3.10.2"
  }
 },
 "nbformat": 4,
 "nbformat_minor": 5
}
